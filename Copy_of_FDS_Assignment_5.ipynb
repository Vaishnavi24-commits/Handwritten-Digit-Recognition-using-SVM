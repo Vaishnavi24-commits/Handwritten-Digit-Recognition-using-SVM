{
  "nbformat": 4,
  "nbformat_minor": 0,
  "metadata": {
    "colab": {
      "provenance": []
    },
    "kernelspec": {
      "name": "python3",
      "display_name": "Python 3"
    },
    "language_info": {
      "name": "python"
    }
  },
  "cells": [
    {
      "cell_type": "code",
      "source": [
        "from sklearn.datasets import load_digits\n",
        "from sklearn.model_selection import train_test_split\n",
        "from sklearn.svm import SVC\n",
        "from sklearn.metrics import accuracy_score\n",
        "\n",
        "digits = load_digits()\n",
        "\n",
        "X, y = digits.data, digits.target\n",
        "\n",
        "\n",
        "X_train, X_test, y_train, y_test = train_test_split(X, y, test_size=0.2, random_state=42)\n",
        "\n",
        "kernels = ['linear', 'poly', 'rbf', 'sigmoid']\n",
        "gamma_values = [0.001, 0.01, 0.1, 1, 10]\n",
        "\n",
        "best_accuracy = 0\n",
        "best_kernel = ''\n",
        "best_gamma = 0\n",
        "\n",
        "\n",
        "for kernel in kernels:\n",
        "    for gamma in gamma_values:\n",
        "\n",
        "        clf = SVC(kernel=kernel, gamma=gamma, random_state=42)\n",
        "\n",
        "\n",
        "        clf.fit(X_train, y_train)\n",
        "\n",
        "        y_pred = clf.predict(X_test)\n",
        "\n",
        "        accuracy = accuracy_score(y_test, y_pred)\n",
        "\n",
        "        print(f\"Kernel: {kernel}, Gamma: {gamma}, Accuracy: {accuracy}\")\n",
        "\n",
        "        if accuracy > best_accuracy:\n",
        "            best_accuracy = accuracy\n",
        "            best_kernel = kernel\n",
        "            best_gamma = gamma\n",
        "\n",
        "print(f\"\\nBest accuracy: {best_accuracy} achieved with kernel: {best_kernel} and gamma: {best_gamma}\")"
      ],
      "metadata": {
        "colab": {
          "base_uri": "https://localhost:8080/"
        },
        "id": "lUL8hASGPr1F",
        "outputId": "5ef3336b-8b77-449d-8c85-216c5d03e318"
      },
      "execution_count": null,
      "outputs": [
        {
          "output_type": "stream",
          "name": "stdout",
          "text": [
            "Kernel: linear, Gamma: 0.001, Accuracy: 0.9777777777777777\n",
            "Kernel: linear, Gamma: 0.01, Accuracy: 0.9777777777777777\n",
            "Kernel: linear, Gamma: 0.1, Accuracy: 0.9777777777777777\n",
            "Kernel: linear, Gamma: 1, Accuracy: 0.9777777777777777\n",
            "Kernel: linear, Gamma: 10, Accuracy: 0.9777777777777777\n",
            "Kernel: poly, Gamma: 0.001, Accuracy: 0.9861111111111112\n",
            "Kernel: poly, Gamma: 0.01, Accuracy: 0.9861111111111112\n",
            "Kernel: poly, Gamma: 0.1, Accuracy: 0.9861111111111112\n",
            "Kernel: poly, Gamma: 1, Accuracy: 0.9861111111111112\n",
            "Kernel: poly, Gamma: 10, Accuracy: 0.9861111111111112\n",
            "Kernel: rbf, Gamma: 0.001, Accuracy: 0.9888888888888889\n",
            "Kernel: rbf, Gamma: 0.01, Accuracy: 0.7916666666666666\n",
            "Kernel: rbf, Gamma: 0.1, Accuracy: 0.07777777777777778\n",
            "Kernel: rbf, Gamma: 1, Accuracy: 0.07777777777777778\n",
            "Kernel: rbf, Gamma: 10, Accuracy: 0.07777777777777778\n",
            "Kernel: sigmoid, Gamma: 0.001, Accuracy: 0.7194444444444444\n",
            "Kernel: sigmoid, Gamma: 0.01, Accuracy: 0.07777777777777778\n",
            "Kernel: sigmoid, Gamma: 0.1, Accuracy: 0.07777777777777778\n",
            "Kernel: sigmoid, Gamma: 1, Accuracy: 0.07777777777777778\n",
            "Kernel: sigmoid, Gamma: 10, Accuracy: 0.07777777777777778\n",
            "\n",
            "Best accuracy: 0.9888888888888889 achieved with kernel: rbf and gamma: 0.001\n"
          ]
        }
      ]
    }
  ]
}